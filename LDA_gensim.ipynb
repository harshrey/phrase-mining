{
 "cells": [
  {
   "cell_type": "markdown",
   "metadata": {},
   "source": [
    "#                      Latent Dirichilet Allocation (LDA) using Gensim (Python)"
   ]
  },
  {
   "cell_type": "markdown",
   "metadata": {},
   "source": [
    "### Lets quickly import pandas and get our data set to work on"
   ]
  },
  {
   "cell_type": "markdown",
   "metadata": {},
   "source": [
    "* Here the news headline data set from Kaggle is used.\n",
    "* It contains news headlines from last 17 years\n",
    "* Such a data set is a good choice for topic modelling"
   ]
  },
  {
   "cell_type": "code",
   "execution_count": 1,
   "metadata": {},
   "outputs": [
    {
     "data": {
      "text/html": [
       "<div>\n",
       "<style scoped>\n",
       "    .dataframe tbody tr th:only-of-type {\n",
       "        vertical-align: middle;\n",
       "    }\n",
       "\n",
       "    .dataframe tbody tr th {\n",
       "        vertical-align: top;\n",
       "    }\n",
       "\n",
       "    .dataframe thead th {\n",
       "        text-align: right;\n",
       "    }\n",
       "</style>\n",
       "<table border=\"1\" class=\"dataframe\">\n",
       "  <thead>\n",
       "    <tr style=\"text-align: right;\">\n",
       "      <th></th>\n",
       "      <th>publish_date</th>\n",
       "      <th>headline_text</th>\n",
       "    </tr>\n",
       "  </thead>\n",
       "  <tbody>\n",
       "    <tr>\n",
       "      <th>0</th>\n",
       "      <td>20030219</td>\n",
       "      <td>aba decides against community broadcasting lic...</td>\n",
       "    </tr>\n",
       "    <tr>\n",
       "      <th>1</th>\n",
       "      <td>20030219</td>\n",
       "      <td>act fire witnesses must be aware of defamation</td>\n",
       "    </tr>\n",
       "    <tr>\n",
       "      <th>2</th>\n",
       "      <td>20030219</td>\n",
       "      <td>a g calls for infrastructure protection summit</td>\n",
       "    </tr>\n",
       "    <tr>\n",
       "      <th>3</th>\n",
       "      <td>20030219</td>\n",
       "      <td>air nz staff in aust strike for pay rise</td>\n",
       "    </tr>\n",
       "    <tr>\n",
       "      <th>4</th>\n",
       "      <td>20030219</td>\n",
       "      <td>air nz strike to affect australian travellers</td>\n",
       "    </tr>\n",
       "  </tbody>\n",
       "</table>\n",
       "</div>"
      ],
      "text/plain": [
       "   publish_date                                      headline_text\n",
       "0      20030219  aba decides against community broadcasting lic...\n",
       "1      20030219     act fire witnesses must be aware of defamation\n",
       "2      20030219     a g calls for infrastructure protection summit\n",
       "3      20030219           air nz staff in aust strike for pay rise\n",
       "4      20030219      air nz strike to affect australian travellers"
      ]
     },
     "execution_count": 1,
     "metadata": {},
     "output_type": "execute_result"
    }
   ],
   "source": [
    "import pandas as pd\n",
    "df = pd.read_csv('abcnews-date-text.csv')\n",
    "df.head()"
   ]
  },
  {
   "cell_type": "code",
   "execution_count": 2,
   "metadata": {},
   "outputs": [
    {
     "data": {
      "text/html": [
       "<div>\n",
       "<style scoped>\n",
       "    .dataframe tbody tr th:only-of-type {\n",
       "        vertical-align: middle;\n",
       "    }\n",
       "\n",
       "    .dataframe tbody tr th {\n",
       "        vertical-align: top;\n",
       "    }\n",
       "\n",
       "    .dataframe thead th {\n",
       "        text-align: right;\n",
       "    }\n",
       "</style>\n",
       "<table border=\"1\" class=\"dataframe\">\n",
       "  <thead>\n",
       "    <tr style=\"text-align: right;\">\n",
       "      <th></th>\n",
       "      <th>publish_date</th>\n",
       "      <th>headline_text</th>\n",
       "    </tr>\n",
       "  </thead>\n",
       "  <tbody>\n",
       "    <tr>\n",
       "      <th>1186013</th>\n",
       "      <td>20191231</td>\n",
       "      <td>vision of flames approaching corryong in victoria</td>\n",
       "    </tr>\n",
       "    <tr>\n",
       "      <th>1186014</th>\n",
       "      <td>20191231</td>\n",
       "      <td>wa police and government backflip on drug amne...</td>\n",
       "    </tr>\n",
       "    <tr>\n",
       "      <th>1186015</th>\n",
       "      <td>20191231</td>\n",
       "      <td>we have fears for their safety: victorian premier</td>\n",
       "    </tr>\n",
       "    <tr>\n",
       "      <th>1186016</th>\n",
       "      <td>20191231</td>\n",
       "      <td>when do the 20s start</td>\n",
       "    </tr>\n",
       "    <tr>\n",
       "      <th>1186017</th>\n",
       "      <td>20191231</td>\n",
       "      <td>yarraville shooting woman dead man critically ...</td>\n",
       "    </tr>\n",
       "  </tbody>\n",
       "</table>\n",
       "</div>"
      ],
      "text/plain": [
       "         publish_date                                      headline_text\n",
       "1186013      20191231  vision of flames approaching corryong in victoria\n",
       "1186014      20191231  wa police and government backflip on drug amne...\n",
       "1186015      20191231  we have fears for their safety: victorian premier\n",
       "1186016      20191231                              when do the 20s start\n",
       "1186017      20191231  yarraville shooting woman dead man critically ..."
      ]
     },
     "execution_count": 2,
     "metadata": {},
     "output_type": "execute_result"
    }
   ],
   "source": [
    "df.tail()"
   ]
  },
  {
   "cell_type": "code",
   "execution_count": 3,
   "metadata": {},
   "outputs": [
    {
     "name": "stdout",
     "output_type": "stream",
     "text": [
      "<class 'pandas.core.frame.DataFrame'>\n",
      "RangeIndex: 1186018 entries, 0 to 1186017\n",
      "Data columns (total 2 columns):\n",
      " #   Column         Non-Null Count    Dtype \n",
      "---  ------         --------------    ----- \n",
      " 0   publish_date   1186018 non-null  int64 \n",
      " 1   headline_text  1186018 non-null  object\n",
      "dtypes: int64(1), object(1)\n",
      "memory usage: 18.1+ MB\n"
     ]
    }
   ],
   "source": [
    "df.info()"
   ]
  },
  {
   "cell_type": "code",
   "execution_count": 4,
   "metadata": {},
   "outputs": [
    {
     "data": {
      "text/plain": [
       "(1186018, 2)"
      ]
     },
     "execution_count": 4,
     "metadata": {},
     "output_type": "execute_result"
    }
   ],
   "source": [
    "df.shape"
   ]
  },
  {
   "cell_type": "code",
   "execution_count": 5,
   "metadata": {},
   "outputs": [
    {
     "data": {
      "text/html": [
       "<div>\n",
       "<style scoped>\n",
       "    .dataframe tbody tr th:only-of-type {\n",
       "        vertical-align: middle;\n",
       "    }\n",
       "\n",
       "    .dataframe tbody tr th {\n",
       "        vertical-align: top;\n",
       "    }\n",
       "\n",
       "    .dataframe thead th {\n",
       "        text-align: right;\n",
       "    }\n",
       "</style>\n",
       "<table border=\"1\" class=\"dataframe\">\n",
       "  <thead>\n",
       "    <tr style=\"text-align: right;\">\n",
       "      <th></th>\n",
       "      <th>headline_text</th>\n",
       "      <th>index</th>\n",
       "    </tr>\n",
       "  </thead>\n",
       "  <tbody>\n",
       "    <tr>\n",
       "      <th>0</th>\n",
       "      <td>aba decides against community broadcasting lic...</td>\n",
       "      <td>0</td>\n",
       "    </tr>\n",
       "    <tr>\n",
       "      <th>1</th>\n",
       "      <td>act fire witnesses must be aware of defamation</td>\n",
       "      <td>1</td>\n",
       "    </tr>\n",
       "    <tr>\n",
       "      <th>2</th>\n",
       "      <td>a g calls for infrastructure protection summit</td>\n",
       "      <td>2</td>\n",
       "    </tr>\n",
       "    <tr>\n",
       "      <th>3</th>\n",
       "      <td>air nz staff in aust strike for pay rise</td>\n",
       "      <td>3</td>\n",
       "    </tr>\n",
       "    <tr>\n",
       "      <th>4</th>\n",
       "      <td>air nz strike to affect australian travellers</td>\n",
       "      <td>4</td>\n",
       "    </tr>\n",
       "  </tbody>\n",
       "</table>\n",
       "</div>"
      ],
      "text/plain": [
       "                                       headline_text  index\n",
       "0  aba decides against community broadcasting lic...      0\n",
       "1     act fire witnesses must be aware of defamation      1\n",
       "2     a g calls for infrastructure protection summit      2\n",
       "3           air nz staff in aust strike for pay rise      3\n",
       "4      air nz strike to affect australian travellers      4"
      ]
     },
     "execution_count": 5,
     "metadata": {},
     "output_type": "execute_result"
    }
   ],
   "source": [
    "data = df[['headline_text']]\n",
    "data['index'] = data.index\n",
    "document = data\n",
    "data.head()"
   ]
  },
  {
   "cell_type": "markdown",
   "metadata": {},
   "source": [
    "## Lets Preprocess our data\n",
    "* Tokenization\n",
    "* Lower case the text\n",
    "* get rid of the punctuations\n",
    "* remove the stopwords\n",
    "* lemmatization\n",
    "* stemming"
   ]
  },
  {
   "cell_type": "code",
   "execution_count": 6,
   "metadata": {},
   "outputs": [
    {
     "name": "stderr",
     "output_type": "stream",
     "text": [
      "[nltk_data] Downloading package wordnet to\n",
      "[nltk_data]     C:\\Users\\kruti\\AppData\\Roaming\\nltk_data...\n",
      "[nltk_data]   Unzipping corpora\\wordnet.zip.\n"
     ]
    },
    {
     "data": {
      "text/plain": [
       "True"
      ]
     },
     "execution_count": 6,
     "metadata": {},
     "output_type": "execute_result"
    }
   ],
   "source": [
    "# Loading the necessary libraries\n",
    "\n",
    "import gensim\n",
    "from gensim.utils import simple_preprocess\n",
    "from gensim.parsing.preprocessing import STOPWORDS\n",
    "\n",
    "from nltk.stem import WordNetLemmatizer, SnowballStemmer\n",
    "\n",
    "from nltk.stem.porter import *\n",
    "\n",
    "import numpy as np\n",
    "np.random.seed(2018)\n",
    "\n",
    "import nltk\n",
    "nltk.download('wordnet')"
   ]
  },
  {
   "cell_type": "code",
   "execution_count": 14,
   "metadata": {},
   "outputs": [],
   "source": [
    "from nltk.stem import PorterStemmer\n",
    "stemmer = PorterStemmer()"
   ]
  },
  {
   "cell_type": "code",
   "execution_count": 15,
   "metadata": {},
   "outputs": [],
   "source": [
    "def lemm_stem(text):\n",
    "    return stemmer.stem(WordNetLemmatizer().lemmatize(text, pos = 'v'))"
   ]
  },
  {
   "cell_type": "code",
   "execution_count": 12,
   "metadata": {},
   "outputs": [],
   "source": [
    "def preprocess_text(text):\n",
    "    result = []\n",
    "    \n",
    "    for token in gensim.utils.simple_preprocess(text):\n",
    "        if token not in gensim.parsing.preprocessing.STOPWORDS and len(token) > 3:\n",
    "            result.append(lemm_stem(token))\n",
    "            \n",
    "    return result"
   ]
  },
  {
   "cell_type": "code",
   "execution_count": 9,
   "metadata": {},
   "outputs": [
    {
     "data": {
      "image/png": "[encoded data removed]",
      "text/plain": [
       "<PIL.Image.Image image mode=RGB size=400x200 at 0x1F8A5A28F48>"
      ]
     },
     "execution_count": 9,
     "metadata": {},
     "output_type": "execute_result"
    }
   ],
   "source": [
    "# I am gonna import the word cloud library\n",
    "from wordcloud import WordCloud\n",
    "\n",
    "# for creating a word cloud we need to pull all our text together\n",
    "# I am gonna do that by joining all the processed_data together in a single variable\n",
    "para = ','.join(list(data['headline_text'].values))\n",
    "\n",
    "# Lets create an instance for word cloud \n",
    "wordcloud = WordCloud(background_color = 'white', \n",
    "                      max_words = 5000,\n",
    "                      contour_width = 3, \n",
    "                      contour_color = 'steelblue')\n",
    "\n",
    "# generate our word cloud\n",
    "wordcloud.generate(para)\n",
    "\n",
    "# Lets visualize it \n",
    "wordcloud.to_image()"
   ]
  },
  {
   "cell_type": "markdown",
   "metadata": {},
   "source": [
    "### Lets check if lemmatization and stemming is working or not"
   ]
  },
  {
   "cell_type": "code",
   "execution_count": 16,
   "metadata": {},
   "outputs": [
    {
     "name": "stdout",
     "output_type": "stream",
     "text": [
      "Original Document: \n",
      "['ratepayers', 'group', 'wants', 'compulsory', 'local', 'govt', 'voting']\n",
      "\n",
      "\n",
      " Tokenized and Lemmatized Document: \n",
      "['ratepay', 'group', 'want', 'compulsori', 'local', 'govt', 'vote']\n"
     ]
    }
   ],
   "source": [
    "doc = document[document['index'] == 4310].values[0][0]\n",
    "\n",
    "print('Original Document: ')\n",
    "words = []\n",
    "for word in doc.split(' '):\n",
    "    words.append(word)\n",
    "    \n",
    "print(words)\n",
    "\n",
    "print('\\n\\n Tokenized and Lemmatized Document: ')\n",
    "print(preprocess_text(doc))"
   ]
  },
  {
   "cell_type": "code",
   "execution_count": 17,
   "metadata": {},
   "outputs": [
    {
     "name": "stdout",
     "output_type": "stream",
     "text": [
      "Original Document: \n",
      "['man', 'missing', 'after', 'car', 'washed', 'into', 'victoria', 'river']\n",
      "\n",
      "\n",
      " Tokenized and Lemmatized Document: \n",
      "['miss', 'wash', 'victoria', 'river']\n"
     ]
    }
   ],
   "source": [
    "doc = document[document['index'] == 1600].values[0][0]\n",
    "\n",
    "print('Original Document: ')\n",
    "words = []\n",
    "for word in doc.split(' '):\n",
    "    words.append(word)\n",
    "    \n",
    "print(words)\n",
    "\n",
    "print('\\n\\n Tokenized and Lemmatized Document: ')\n",
    "print(preprocess_text(doc))"
   ]
  },
  {
   "cell_type": "markdown",
   "metadata": {},
   "source": [
    "### This stemming and lemmatization seems to work okay"
   ]
  },
  {
   "cell_type": "markdown",
   "metadata": {},
   "source": [
    "## Preprocess the entire headline text"
   ]
  },
  {
   "cell_type": "code",
   "execution_count": 19,
   "metadata": {},
   "outputs": [
    {
     "data": {
      "text/plain": [
       "0               [decid, commun, broadcast, licenc]\n",
       "1                               [wit, awar, defam]\n",
       "2           [call, infrastructur, protect, summit]\n",
       "3                      [staff, aust, strike, rise]\n",
       "4             [strike, affect, australian, travel]\n",
       "5               [ambiti, olsson, win, tripl, jump]\n",
       "6           [antic, delight, record, break, barca]\n",
       "7    [aussi, qualifi, stosur, wast, memphi, match]\n",
       "8            [aust, address, secur, council, iraq]\n",
       "9                         [australia, lock, timet]\n",
       "Name: headline_text, dtype: object"
      ]
     },
     "execution_count": 19,
     "metadata": {},
     "output_type": "execute_result"
    }
   ],
   "source": [
    "processed_doc = document['headline_text'].map(preprocess_text)\n",
    "processed_doc[:10]"
   ]
  },
  {
   "cell_type": "markdown",
   "metadata": {},
   "source": [
    "### Bag of words for the data"
   ]
  },
  {
   "cell_type": "code",
   "execution_count": 20,
   "metadata": {},
   "outputs": [
    {
     "name": "stdout",
     "output_type": "stream",
     "text": [
      "0 broadcast\n",
      "1 commun\n",
      "2 decid\n",
      "3 licenc\n",
      "4 awar\n",
      "5 defam\n",
      "6 wit\n",
      "7 call\n",
      "8 infrastructur\n",
      "9 protect\n",
      "10 summit\n"
     ]
    }
   ],
   "source": [
    "dictionary = gensim.corpora.Dictionary(processed_doc)\n",
    "\n",
    "count = 0 \n",
    "for k, v in dictionary.iteritems():\n",
    "    print(k, v)\n",
    "    count += 1\n",
    "    if count > 10:\n",
    "        break"
   ]
  },
  {
   "cell_type": "markdown",
   "metadata": {},
   "source": [
    "### Filtering the data"
   ]
  },
  {
   "cell_type": "code",
   "execution_count": 21,
   "metadata": {},
   "outputs": [],
   "source": [
    "dictionary.filter_extremes(no_below = 15, no_above = 0.5, keep_n = 100000)"
   ]
  },
  {
   "cell_type": "code",
   "execution_count": 22,
   "metadata": {},
   "outputs": [
    {
     "data": {
      "text/plain": [
       "[(162, 1), (240, 1), (292, 1), (589, 1), (839, 1), (3575, 1), (3576, 1)]"
      ]
     },
     "execution_count": 22,
     "metadata": {},
     "output_type": "execute_result"
    }
   ],
   "source": [
    "bow_corpus = [dictionary.doc2bow(doc) for doc in processed_doc]\n",
    "bow_corpus[4310]"
   ]
  },
  {
   "cell_type": "markdown",
   "metadata": {},
   "source": [
    "### Sample preview of the bag of words we created"
   ]
  },
  {
   "cell_type": "code",
   "execution_count": 23,
   "metadata": {},
   "outputs": [
    {
     "name": "stdout",
     "output_type": "stream",
     "text": [
      "Word 162 (\"govt\") appears 1 time.\n",
      "Word 240 (\"group\") appears 1 time.\n",
      "Word 292 (\"vote\") appears 1 time.\n",
      "Word 589 (\"local\") appears 1 time.\n",
      "Word 839 (\"want\") appears 1 time.\n",
      "Word 3575 (\"compulsori\") appears 1 time.\n",
      "Word 3576 (\"ratepay\") appears 1 time.\n"
     ]
    }
   ],
   "source": [
    "bow_doc_4310 = bow_corpus[4310]\n",
    "\n",
    "for i in range(len(bow_doc_4310)):\n",
    "    print(\"Word {} (\\\"{}\\\") appears {} time.\".format(bow_doc_4310[i][0],\n",
    "                                                    dictionary[bow_doc_4310[i][0]],\n",
    "                                                    bow_doc_4310[i][1]))"
   ]
  },
  {
   "cell_type": "markdown",
   "metadata": {},
   "source": [
    "### TF-IDF"
   ]
  },
  {
   "cell_type": "code",
   "execution_count": 24,
   "metadata": {},
   "outputs": [
    {
     "name": "stdout",
     "output_type": "stream",
     "text": [
      "[(0, 0.5860586362613176),\n",
      " (1, 0.3854657616151764),\n",
      " (2, 0.5006618583937537),\n",
      " (3, 0.5072367544211179)]\n"
     ]
    }
   ],
   "source": [
    "from gensim import corpora, models\n",
    "\n",
    "tfidf = models.TfidfModel(bow_corpus)\n",
    "corpus_tfidf = tfidf[bow_corpus]\n",
    "\n",
    "from pprint import pprint\n",
    "\n",
    "for doc in corpus_tfidf:\n",
    "    pprint(doc)\n",
    "    break"
   ]
  },
  {
   "cell_type": "markdown",
   "metadata": {},
   "source": [
    "### LDA with BOW"
   ]
  },
  {
   "cell_type": "code",
   "execution_count": 25,
   "metadata": {},
   "outputs": [],
   "source": [
    "lda_model = gensim.models.LdaMulticore(bow_corpus, \n",
    "                                       num_topics = 10,\n",
    "                                       id2word = dictionary,\n",
    "                                       passes = 2,\n",
    "                                       workers = 2)"
   ]
  },
  {
   "cell_type": "code",
   "execution_count": 26,
   "metadata": {},
   "outputs": [
    {
     "name": "stdout",
     "output_type": "stream",
     "text": [
      "Topic : 0 \n",
      "Words:0.026*\"market\" + 0.022*\"school\" + 0.015*\"investig\" + 0.015*\"interview\" + 0.014*\"street\" + 0.013*\"fall\" + 0.013*\"student\" + 0.011*\"scott\" + 0.011*\"share\" + 0.010*\"bushfir\"\n",
      "Topic : 1 \n",
      "Words:0.020*\"donald\" + 0.018*\"plan\" + 0.014*\"canberra\" + 0.013*\"feder\" + 0.013*\"council\" + 0.012*\"speak\" + 0.011*\"water\" + 0.011*\"farm\" + 0.010*\"drum\" + 0.010*\"industri\"\n",
      "Topic : 2 \n",
      "Words:0.038*\"trump\" + 0.025*\"world\" + 0.017*\"australia\" + 0.016*\"open\" + 0.015*\"tasmania\" + 0.014*\"final\" + 0.014*\"australian\" + 0.011*\"break\" + 0.011*\"game\" + 0.011*\"record\"\n",
      "Topic : 3 \n",
      "Words:0.029*\"queensland\" + 0.021*\"help\" + 0.017*\"miss\" + 0.016*\"royal\" + 0.015*\"tasmanian\" + 0.015*\"bank\" + 0.013*\"report\" + 0.013*\"victoria\" + 0.013*\"commiss\" + 0.011*\"drought\"\n",
      "Topic : 4 \n",
      "Words:0.023*\"news\" + 0.022*\"women\" + 0.021*\"live\" + 0.021*\"warn\" + 0.020*\"coast\" + 0.019*\"health\" + 0.016*\"rural\" + 0.016*\"countri\" + 0.016*\"busi\" + 0.013*\"gold\"\n",
      "Topic : 5 \n",
      "Words:0.054*\"polic\" + 0.050*\"say\" + 0.024*\"kill\" + 0.024*\"attack\" + 0.021*\"crash\" + 0.018*\"die\" + 0.018*\"shoot\" + 0.017*\"perth\" + 0.014*\"woman\" + 0.014*\"arrest\"\n",
      "Topic : 6 \n",
      "Words:0.014*\"show\" + 0.013*\"liber\" + 0.012*\"morrison\" + 0.012*\"wall\" + 0.012*\"young\" + 0.010*\"station\" + 0.010*\"christma\" + 0.010*\"train\" + 0.010*\"beach\" + 0.010*\"research\"\n",
      "Topic : 7 \n",
      "Words:0.045*\"australia\" + 0.035*\"elect\" + 0.032*\"govern\" + 0.025*\"china\" + 0.012*\"rise\" + 0.012*\"million\" + 0.011*\"citi\" + 0.011*\"trade\" + 0.011*\"presid\" + 0.010*\"deal\"\n",
      "Topic : 8 \n",
      "Words:0.034*\"year\" + 0.030*\"charg\" + 0.027*\"court\" + 0.025*\"murder\" + 0.018*\"face\" + 0.016*\"jail\" + 0.016*\"accus\" + 0.014*\"death\" + 0.014*\"peopl\" + 0.013*\"trial\"\n",
      "Topic : 9 \n",
      "Words:0.020*\"south\" + 0.019*\"adelaid\" + 0.018*\"north\" + 0.014*\"labor\" + 0.014*\"hospit\" + 0.011*\"west\" + 0.011*\"worker\" + 0.010*\"stori\" + 0.010*\"state\" + 0.010*\"polit\"\n"
     ]
    }
   ],
   "source": [
    "for idx, topic in lda_model.print_topics(-1):\n",
    "    print('Topic : {} \\nWords:{}'.format(idx, topic))"
   ]
  },
  {
   "cell_type": "markdown",
   "metadata": {},
   "source": [
    "### Okay so now we have the relevant topics along with their weights"
   ]
  },
  {
   "cell_type": "markdown",
   "metadata": {},
   "source": [
    "### LDA With TF-IDF"
   ]
  },
  {
   "cell_type": "code",
   "execution_count": 27,
   "metadata": {},
   "outputs": [
    {
     "name": "stdout",
     "output_type": "stream",
     "text": [
      "Topic : 0 \n",
      "Words:0.028*\"trump\" + 0.018*\"countri\" + 0.013*\"hour\" + 0.006*\"price\" + 0.006*\"financ\" + 0.006*\"rise\" + 0.006*\"august\" + 0.006*\"jam\" + 0.006*\"coal\" + 0.006*\"dollar\"\n",
      "Topic : 1 \n",
      "Words:0.018*\"charg\" + 0.018*\"murder\" + 0.014*\"polic\" + 0.013*\"court\" + 0.011*\"woman\" + 0.010*\"jail\" + 0.010*\"sentenc\" + 0.009*\"guilti\" + 0.009*\"shoot\" + 0.009*\"assault\"\n",
      "Topic : 2 \n",
      "Words:0.009*\"health\" + 0.008*\"govern\" + 0.008*\"chang\" + 0.007*\"climat\" + 0.006*\"farm\" + 0.006*\"fund\" + 0.006*\"scott\" + 0.005*\"farmer\" + 0.005*\"pacif\" + 0.005*\"budget\"\n",
      "Topic : 3 \n",
      "Words:0.010*\"interview\" + 0.009*\"turnbul\" + 0.009*\"wednesday\" + 0.007*\"driver\" + 0.007*\"truck\" + 0.006*\"energi\" + 0.006*\"teenag\" + 0.006*\"decemb\" + 0.005*\"malcolm\" + 0.005*\"asylum\"\n",
      "Topic : 4 \n",
      "Words:0.012*\"drum\" + 0.011*\"live\" + 0.008*\"search\" + 0.008*\"weather\" + 0.008*\"queensland\" + 0.008*\"tuesday\" + 0.007*\"coast\" + 0.007*\"sport\" + 0.006*\"miss\" + 0.006*\"peter\"\n",
      "Topic : 5 \n",
      "Words:0.012*\"stori\" + 0.008*\"david\" + 0.008*\"korea\" + 0.008*\"kill\" + 0.007*\"mark\" + 0.007*\"north\" + 0.006*\"south\" + 0.006*\"australia\" + 0.006*\"indonesia\" + 0.006*\"septemb\"\n",
      "Topic : 6 \n",
      "Words:0.017*\"donald\" + 0.010*\"christma\" + 0.009*\"elect\" + 0.007*\"liber\" + 0.007*\"parti\" + 0.006*\"extend\" + 0.006*\"resign\" + 0.005*\"territori\" + 0.005*\"interview\" + 0.005*\"polit\"\n",
      "Topic : 7 \n",
      "Words:0.025*\"news\" + 0.019*\"market\" + 0.014*\"rural\" + 0.011*\"crash\" + 0.009*\"friday\" + 0.009*\"monday\" + 0.009*\"street\" + 0.008*\"wall\" + 0.007*\"nation\" + 0.007*\"share\"\n",
      "Topic : 8 \n",
      "Words:0.010*\"final\" + 0.010*\"world\" + 0.009*\"australia\" + 0.008*\"leagu\" + 0.007*\"thursday\" + 0.007*\"cricket\" + 0.007*\"morrison\" + 0.006*\"john\" + 0.006*\"australian\" + 0.006*\"beat\"\n",
      "Topic : 9 \n",
      "Words:0.014*\"royal\" + 0.011*\"commiss\" + 0.009*\"abus\" + 0.008*\"sexual\" + 0.007*\"michael\" + 0.007*\"grow\" + 0.006*\"disabl\" + 0.006*\"money\" + 0.006*\"insid\" + 0.005*\"round\"\n"
     ]
    }
   ],
   "source": [
    "lda_model_tfidf = gensim.models.LdaMulticore(corpus_tfidf, \n",
    "                                             num_topics = 10, \n",
    "                                             id2word = dictionary, \n",
    "                                             passes = 2,\n",
    "                                             workers = 4)\n",
    "\n",
    "for idx, topic in lda_model_tfidf.print_topics(-1):\n",
    "    print('Topic : {} \\nWords:{}'.format(idx, topic))"
   ]
  },
  {
   "cell_type": "markdown",
   "metadata": {},
   "source": [
    "### Lets see the performance of LDA with BOW"
   ]
  },
  {
   "cell_type": "code",
   "execution_count": 31,
   "metadata": {},
   "outputs": [
    {
     "data": {
      "text/plain": [
       "['ratepay', 'group', 'want', 'compulsori', 'local', 'govt', 'vote']"
      ]
     },
     "execution_count": 31,
     "metadata": {},
     "output_type": "execute_result"
    }
   ],
   "source": [
    "processed_doc[4310]"
   ]
  },
  {
   "cell_type": "code",
   "execution_count": 30,
   "metadata": {},
   "outputs": [
    {
     "name": "stdout",
     "output_type": "stream",
     "text": [
      "\n",
      "Score : 0.62055903673172\t\n",
      "Topic: 0.020*\"donald\" + 0.018*\"plan\" + 0.014*\"canberra\" + 0.013*\"feder\" + 0.013*\"council\" + 0.012*\"speak\" + 0.011*\"water\" + 0.011*\"farm\" + 0.010*\"drum\" + 0.010*\"industri\"\n",
      "\n",
      "Score : 0.1489839106798172\t\n",
      "Topic: 0.014*\"show\" + 0.013*\"liber\" + 0.012*\"morrison\" + 0.012*\"wall\" + 0.012*\"young\" + 0.010*\"station\" + 0.010*\"christma\" + 0.010*\"train\" + 0.010*\"beach\" + 0.010*\"research\"\n",
      "\n",
      "Score : 0.14290517568588257\t\n",
      "Topic: 0.023*\"news\" + 0.022*\"women\" + 0.021*\"live\" + 0.021*\"warn\" + 0.020*\"coast\" + 0.019*\"health\" + 0.016*\"rural\" + 0.016*\"countri\" + 0.016*\"busi\" + 0.013*\"gold\"\n",
      "\n",
      "Score : 0.012509822845458984\t\n",
      "Topic: 0.020*\"south\" + 0.019*\"adelaid\" + 0.018*\"north\" + 0.014*\"labor\" + 0.014*\"hospit\" + 0.011*\"west\" + 0.011*\"worker\" + 0.010*\"stori\" + 0.010*\"state\" + 0.010*\"polit\"\n",
      "\n",
      "Score : 0.012507057748734951\t\n",
      "Topic: 0.029*\"queensland\" + 0.021*\"help\" + 0.017*\"miss\" + 0.016*\"royal\" + 0.015*\"tasmanian\" + 0.015*\"bank\" + 0.013*\"report\" + 0.013*\"victoria\" + 0.013*\"commiss\" + 0.011*\"drought\"\n",
      "\n",
      "Score : 0.012506991624832153\t\n",
      "Topic: 0.034*\"year\" + 0.030*\"charg\" + 0.027*\"court\" + 0.025*\"murder\" + 0.018*\"face\" + 0.016*\"jail\" + 0.016*\"accus\" + 0.014*\"death\" + 0.014*\"peopl\" + 0.013*\"trial\"\n",
      "\n",
      "Score : 0.012506989762187004\t\n",
      "Topic: 0.026*\"market\" + 0.022*\"school\" + 0.015*\"investig\" + 0.015*\"interview\" + 0.014*\"street\" + 0.013*\"fall\" + 0.013*\"student\" + 0.011*\"scott\" + 0.011*\"share\" + 0.010*\"bushfir\"\n",
      "\n",
      "Score : 0.012506989762187004\t\n",
      "Topic: 0.038*\"trump\" + 0.025*\"world\" + 0.017*\"australia\" + 0.016*\"open\" + 0.015*\"tasmania\" + 0.014*\"final\" + 0.014*\"australian\" + 0.011*\"break\" + 0.011*\"game\" + 0.011*\"record\"\n",
      "\n",
      "Score : 0.012506989762187004\t\n",
      "Topic: 0.054*\"polic\" + 0.050*\"say\" + 0.024*\"kill\" + 0.024*\"attack\" + 0.021*\"crash\" + 0.018*\"die\" + 0.018*\"shoot\" + 0.017*\"perth\" + 0.014*\"woman\" + 0.014*\"arrest\"\n",
      "\n",
      "Score : 0.012506989762187004\t\n",
      "Topic: 0.045*\"australia\" + 0.035*\"elect\" + 0.032*\"govern\" + 0.025*\"china\" + 0.012*\"rise\" + 0.012*\"million\" + 0.011*\"citi\" + 0.011*\"trade\" + 0.011*\"presid\" + 0.010*\"deal\"\n"
     ]
    }
   ],
   "source": [
    "for index, score in sorted(lda_model[bow_corpus[4310]], key = lambda tup:-1*tup[1]):\n",
    "    print(\"\\nScore : {}\\t\\nTopic: {}\".format(score, lda_model.print_topic(index, 10)))"
   ]
  },
  {
   "cell_type": "markdown",
   "metadata": {},
   "source": [
    "### Lets see the performance of LDA with TF-IDF"
   ]
  },
  {
   "cell_type": "code",
   "execution_count": 32,
   "metadata": {},
   "outputs": [
    {
     "name": "stdout",
     "output_type": "stream",
     "text": [
      "\n",
      "Score : 0.5911136269569397\t\n",
      "Topic: 0.009*\"health\" + 0.008*\"govern\" + 0.008*\"chang\" + 0.007*\"climat\" + 0.006*\"farm\" + 0.006*\"fund\" + 0.006*\"scott\" + 0.005*\"farmer\" + 0.005*\"pacif\" + 0.005*\"budget\"\n",
      "\n",
      "Score : 0.30884164571762085\t\n",
      "Topic: 0.018*\"charg\" + 0.018*\"murder\" + 0.014*\"polic\" + 0.013*\"court\" + 0.011*\"woman\" + 0.010*\"jail\" + 0.010*\"sentenc\" + 0.009*\"guilti\" + 0.009*\"shoot\" + 0.009*\"assault\"\n",
      "\n",
      "Score : 0.012506759725511074\t\n",
      "Topic: 0.017*\"donald\" + 0.010*\"christma\" + 0.009*\"elect\" + 0.007*\"liber\" + 0.007*\"parti\" + 0.006*\"extend\" + 0.006*\"resign\" + 0.005*\"territori\" + 0.005*\"interview\" + 0.005*\"polit\"\n",
      "\n",
      "Score : 0.012506043538451195\t\n",
      "Topic: 0.028*\"trump\" + 0.018*\"countri\" + 0.013*\"hour\" + 0.006*\"price\" + 0.006*\"financ\" + 0.006*\"rise\" + 0.006*\"august\" + 0.006*\"jam\" + 0.006*\"coal\" + 0.006*\"dollar\"\n",
      "\n",
      "Score : 0.012505728751420975\t\n",
      "Topic: 0.014*\"royal\" + 0.011*\"commiss\" + 0.009*\"abus\" + 0.008*\"sexual\" + 0.007*\"michael\" + 0.007*\"grow\" + 0.006*\"disabl\" + 0.006*\"money\" + 0.006*\"insid\" + 0.005*\"round\"\n",
      "\n",
      "Score : 0.01250559464097023\t\n",
      "Topic: 0.025*\"news\" + 0.019*\"market\" + 0.014*\"rural\" + 0.011*\"crash\" + 0.009*\"friday\" + 0.009*\"monday\" + 0.009*\"street\" + 0.008*\"wall\" + 0.007*\"nation\" + 0.007*\"share\"\n",
      "\n",
      "Score : 0.012505576945841312\t\n",
      "Topic: 0.010*\"interview\" + 0.009*\"turnbul\" + 0.009*\"wednesday\" + 0.007*\"driver\" + 0.007*\"truck\" + 0.006*\"energi\" + 0.006*\"teenag\" + 0.006*\"decemb\" + 0.005*\"malcolm\" + 0.005*\"asylum\"\n",
      "\n",
      "Score : 0.012505151331424713\t\n",
      "Topic: 0.012*\"stori\" + 0.008*\"david\" + 0.008*\"korea\" + 0.008*\"kill\" + 0.007*\"mark\" + 0.007*\"north\" + 0.006*\"south\" + 0.006*\"australia\" + 0.006*\"indonesia\" + 0.006*\"septemb\"\n",
      "\n",
      "Score : 0.012505044229328632\t\n",
      "Topic: 0.010*\"final\" + 0.010*\"world\" + 0.009*\"australia\" + 0.008*\"leagu\" + 0.007*\"thursday\" + 0.007*\"cricket\" + 0.007*\"morrison\" + 0.006*\"john\" + 0.006*\"australian\" + 0.006*\"beat\"\n",
      "\n",
      "Score : 0.012504811398684978\t\n",
      "Topic: 0.012*\"drum\" + 0.011*\"live\" + 0.008*\"search\" + 0.008*\"weather\" + 0.008*\"queensland\" + 0.008*\"tuesday\" + 0.007*\"coast\" + 0.007*\"sport\" + 0.006*\"miss\" + 0.006*\"peter\"\n"
     ]
    }
   ],
   "source": [
    "for index, score in sorted(lda_model_tfidf[bow_corpus[4310]], key = lambda tup:-1*tup[1]):\n",
    "    print(\"\\nScore : {}\\t\\nTopic: {}\".format(score, lda_model_tfidf.print_topic(index, 10)))"
   ]
  },
  {
   "cell_type": "markdown",
   "metadata": {},
   "source": [
    "## Finally, lets see how our model works with unseen docs"
   ]
  },
  {
   "cell_type": "code",
   "execution_count": 35,
   "metadata": {},
   "outputs": [
    {
     "name": "stdout",
     "output_type": "stream",
     "text": [
      "\n",
      "LDA WITH BOW:\n",
      "\n",
      "Score : 0.3063643276691437\t\n",
      "Topic: 0.054*\"polic\" + 0.050*\"say\" + 0.024*\"kill\" + 0.024*\"attack\" + 0.021*\"crash\" + 0.018*\"die\" + 0.018*\"shoot\" + 0.017*\"perth\" + 0.014*\"woman\" + 0.014*\"arrest\"\n",
      "\n",
      "Score : 0.20126469433307648\t\n",
      "Topic: 0.045*\"australia\" + 0.035*\"elect\" + 0.032*\"govern\" + 0.025*\"china\" + 0.012*\"rise\" + 0.012*\"million\" + 0.011*\"citi\" + 0.011*\"trade\" + 0.011*\"presid\" + 0.010*\"deal\"\n",
      "\n",
      "Score : 0.11266185343265533\t\n",
      "Topic: 0.014*\"show\" + 0.013*\"liber\" + 0.012*\"morrison\" + 0.012*\"wall\" + 0.012*\"young\" + 0.010*\"station\" + 0.010*\"christma\" + 0.010*\"train\" + 0.010*\"beach\" + 0.010*\"research\"\n",
      "\n",
      "Score : 0.09393458813428879\t\n",
      "Topic: 0.023*\"news\" + 0.022*\"women\" + 0.021*\"live\" + 0.021*\"warn\" + 0.020*\"coast\" + 0.019*\"health\" + 0.016*\"rural\" + 0.016*\"countri\" + 0.016*\"busi\" + 0.013*\"gold\"\n",
      "\n",
      "Score : 0.09324795007705688\t\n",
      "Topic: 0.026*\"market\" + 0.022*\"school\" + 0.015*\"investig\" + 0.015*\"interview\" + 0.014*\"street\" + 0.013*\"fall\" + 0.013*\"student\" + 0.011*\"scott\" + 0.011*\"share\" + 0.010*\"bushfir\"\n",
      "\n",
      "Score : 0.08418276906013489\t\n",
      "Topic: 0.034*\"year\" + 0.030*\"charg\" + 0.027*\"court\" + 0.025*\"murder\" + 0.018*\"face\" + 0.016*\"jail\" + 0.016*\"accus\" + 0.014*\"death\" + 0.014*\"peopl\" + 0.013*\"trial\"\n",
      "\n",
      "Score : 0.0534372478723526\t\n",
      "Topic: 0.038*\"trump\" + 0.025*\"world\" + 0.017*\"australia\" + 0.016*\"open\" + 0.015*\"tasmania\" + 0.014*\"final\" + 0.014*\"australian\" + 0.011*\"break\" + 0.011*\"game\" + 0.011*\"record\"\n",
      "\n",
      "Score : 0.04883937910199165\t\n",
      "Topic: 0.020*\"south\" + 0.019*\"adelaid\" + 0.018*\"north\" + 0.014*\"labor\" + 0.014*\"hospit\" + 0.011*\"west\" + 0.011*\"worker\" + 0.010*\"stori\" + 0.010*\"state\" + 0.010*\"polit\"\n",
      "\n",
      "=====================================================================================================================\n",
      "\n",
      "LDA WITH TF-IDF:\n",
      "\n",
      "Score : 0.2049739509820938\t\n",
      "Topic: 0.012*\"drum\" + 0.011*\"live\" + 0.008*\"search\" + 0.008*\"weather\" + 0.008*\"queensland\" + 0.008*\"tuesday\" + 0.007*\"coast\" + 0.007*\"sport\" + 0.006*\"miss\" + 0.006*\"peter\"\n",
      "\n",
      "Score : 0.1667734533548355\t\n",
      "Topic: 0.009*\"health\" + 0.008*\"govern\" + 0.008*\"chang\" + 0.007*\"climat\" + 0.006*\"farm\" + 0.006*\"fund\" + 0.006*\"scott\" + 0.005*\"farmer\" + 0.005*\"pacif\" + 0.005*\"budget\"\n",
      "\n",
      "Score : 0.15615303814411163\t\n",
      "Topic: 0.010*\"final\" + 0.010*\"world\" + 0.009*\"australia\" + 0.008*\"leagu\" + 0.007*\"thursday\" + 0.007*\"cricket\" + 0.007*\"morrison\" + 0.006*\"john\" + 0.006*\"australian\" + 0.006*\"beat\"\n",
      "\n",
      "Score : 0.14119769632816315\t\n",
      "Topic: 0.025*\"news\" + 0.019*\"market\" + 0.014*\"rural\" + 0.011*\"crash\" + 0.009*\"friday\" + 0.009*\"monday\" + 0.009*\"street\" + 0.008*\"wall\" + 0.007*\"nation\" + 0.007*\"share\"\n",
      "\n",
      "Score : 0.08605439960956573\t\n",
      "Topic: 0.014*\"royal\" + 0.011*\"commiss\" + 0.009*\"abus\" + 0.008*\"sexual\" + 0.007*\"michael\" + 0.007*\"grow\" + 0.006*\"disabl\" + 0.006*\"money\" + 0.006*\"insid\" + 0.005*\"round\"\n",
      "\n",
      "Score : 0.07022841274738312\t\n",
      "Topic: 0.018*\"charg\" + 0.018*\"murder\" + 0.014*\"polic\" + 0.013*\"court\" + 0.011*\"woman\" + 0.010*\"jail\" + 0.010*\"sentenc\" + 0.009*\"guilti\" + 0.009*\"shoot\" + 0.009*\"assault\"\n",
      "\n",
      "Score : 0.06399038434028625\t\n",
      "Topic: 0.017*\"donald\" + 0.010*\"christma\" + 0.009*\"elect\" + 0.007*\"liber\" + 0.007*\"parti\" + 0.006*\"extend\" + 0.006*\"resign\" + 0.005*\"territori\" + 0.005*\"interview\" + 0.005*\"polit\"\n",
      "\n",
      "Score : 0.05590078607201576\t\n",
      "Topic: 0.028*\"trump\" + 0.018*\"countri\" + 0.013*\"hour\" + 0.006*\"price\" + 0.006*\"financ\" + 0.006*\"rise\" + 0.006*\"august\" + 0.006*\"jam\" + 0.006*\"coal\" + 0.006*\"dollar\"\n",
      "\n",
      "Score : 0.05169498920440674\t\n",
      "Topic: 0.010*\"interview\" + 0.009*\"turnbul\" + 0.009*\"wednesday\" + 0.007*\"driver\" + 0.007*\"truck\" + 0.006*\"energi\" + 0.006*\"teenag\" + 0.006*\"decemb\" + 0.005*\"malcolm\" + 0.005*\"asylum\"\n"
     ]
    }
   ],
   "source": [
    "# this is some global warming realted text that I took from Wikepedia\n",
    "unseen = '''The rising average temperature of Earth's climate system, \n",
    "            called global warming, is driving changes in rainfall patterns, \n",
    "            extreme weather, arrival of seasons, and more. \n",
    "            Collectively, global warming and its effects are known as climate change. \n",
    "            While there have been prehistoric periods of global warming, \n",
    "            observed changes since the mid-20th century have been unprecedented in rate and scale.'''\n",
    "\n",
    "bow_vector = dictionary.doc2bow(preprocess_text(unseen))\n",
    "\n",
    "print(\"\\nLDA WITH BOW:\")\n",
    "for index, score in sorted(lda_model[bow_vector], key = lambda tup:-1*tup[1]):\n",
    "    print(\"\\nScore : {}\\t\\nTopic: {}\".format(score, lda_model.print_topic(index, 10)))\n",
    "\n",
    "print(\"\\n=====================================================================================================================\")\n",
    "\n",
    "print(\"\\nLDA WITH TF-IDF:\")\n",
    "for index, score in sorted(lda_model_tfidf[bow_vector], key = lambda tup:-1*tup[1]):\n",
    "    print(\"\\nScore : {}\\t\\nTopic: {}\".format(score, lda_model_tfidf.print_topic(index, 10)))"
   ]
  },
  {
   "cell_type": "markdown",
   "metadata": {},
   "source": [
    "## This is pretty much it!"
   ]
  }
 ],
 "metadata": {
  "kernelspec": {
   "display_name": "Python 3",
   "language": "python",
   "name": "python3"
  },
  "language_info": {
   "codemirror_mode": {
    "name": "ipython",
    "version": 3
   },
   "file_extension": ".py",
   "mimetype": "text/x-python",
   "name": "python",
   "nbconvert_exporter": "python",
   "pygments_lexer": "ipython3",
   "version": "3.7.6"
  }
 },
 "nbformat": 4,
 "nbformat_minor": 4
}
